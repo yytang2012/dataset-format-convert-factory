{
 "cells": [
  {
   "cell_type": "code",
   "execution_count": 2,
   "outputs": [],
   "source": [
    "from pathlib import Path\n",
    "import cv2\n",
    "import shutil"
   ],
   "metadata": {
    "collapsed": false,
    "pycharm": {
     "name": "#%%\n"
    }
   }
  },
  {
   "cell_type": "markdown",
   "source": [
    "## Specify the source and destination folder\n",
    "- dataset_dir is the source(input) dataset\n",
    "- kitti_dir is the destination(output) dataset"
   ],
   "metadata": {
    "collapsed": false,
    "pycharm": {
     "name": "#%% md\n"
    }
   }
  },
  {
   "cell_type": "code",
   "execution_count": null,
   "outputs": [],
   "source": [
    "\n",
    "dataset_dir = \"~/Documents/datasets/tao-experiments/items/3_itemdetect_data_split/train/3_itemdetect_evenly_divided\"\n",
    "dataset = Path(dataset_dir).expanduser().resolve()\n",
    "kitti_dst_dir = f\"~/PycharmProjects/TAO_Toolkit/CV/data/item_detection/training\"\n",
    "kitti = Path(kitti_dst_dir).expanduser().resolve()\n",
    "print(f\"Dataset location: {dataset}\")\n",
    "print(f\"destination location: {kitti}\")"
   ],
   "metadata": {
    "collapsed": false,
    "pycharm": {
     "name": "#%%\n",
     "is_executing": true
    }
   }
  },
  {
   "cell_type": "code",
   "execution_count": null,
   "outputs": [],
   "source": [
    "src_images = list(dataset.glob(\"*/*.jpg\"))\n",
    "src_labels = list(dataset.glob(\"*/*.txt\"))\n",
    "\n",
    "dst_images_d = kitti.joinpath(\"image\")\n",
    "dst_images_d.mkdir(parents=True, exist_ok=True)\n",
    "dst_labels_d = kitti.joinpath(\"label\")\n",
    "dst_labels_d.mkdir(parents=True, exist_ok=True)\n",
    "\n",
    "print(f\"Dataset has {len(src_images)} images\")\n",
    "print(f\"Dataset has {len(src_labels)} labels\")"
   ],
   "metadata": {
    "collapsed": false,
    "pycharm": {
     "name": "#%%\n",
     "is_executing": true
    }
   }
  },
  {
   "cell_type": "markdown",
   "source": [
    "### Work on yolo -> kitti format conversion"
   ],
   "metadata": {
    "collapsed": false,
    "pycharm": {
     "name": "#%% md\n"
    }
   }
  },
  {
   "cell_type": "markdown",
   "source": [
    "```text\n",
    "Values    Name      Description\n",
    "----------------------------------------------------------------------------\n",
    "   1    type         Describes the type of object: 'Car', 'Van', 'Truck',\n",
    "                     'Pedestrian', 'Person_sitting', 'Cyclist', 'Tram',\n",
    "                     'Misc' or 'DontCare'\n",
    "   1    truncated    Float from 0 (non-truncated) to 1 (truncated), where\n",
    "                     truncated refers to the object leaving image boundaries\n",
    "   1    occluded     Integer (0,1,2,3) indicating occlusion state:\n",
    "                     0 = fully visible, 1 = partly occluded\n",
    "                     2 = largely occluded, 3 = unknown\n",
    "   1    alpha        Observation angle of object, ranging [-pi..pi]\n",
    "   4    bbox         2D bounding box of object in the image (0-based index):\n",
    "                     contains left, top, right, bottom pixel coordinates\n",
    "   3    dimensions   3D object dimensions: height, width, length (in meters)\n",
    "   3    location     3D object location x,y,z in camera coordinates (in meters)\n",
    "   1    rotation_y   Rotation ry around Y-axis in camera coordinates [-pi..pi]\n",
    "   1    score        Only for results: Float, indicating confidence in\n",
    "                     detection, needed for p/r curves, higher is better.\n",
    "```"
   ],
   "metadata": {
    "collapsed": false,
    "pycharm": {
     "name": "#%% md\n"
    }
   }
  },
  {
   "cell_type": "markdown",
   "source": [
    "```text\n",
    "Example:\n",
    "Car 0.27 0 2.50 862.65 129.39 1241.00 304.96 1.73 1.74 4.71 5.50 1.30 8.19 3.07\n",
    "Car 0.68 3 -0.76 1184.97 141.54 1241.00 187.84 1.52 1.60 4.42 22.39 0.48 24.57 -0.03\n",
    "Car 0.00 1 1.73 346.64 175.63 449.93 248.90 1.58 1.76 4.18 -5.13 1.67 17.86 1.46\n",
    "Car 0.00 0 1.75 420.44 170.72 540.83 256.12 1.65 1.88 4.45 -2.78 1.64 16.30 1.58\n",
    "Car 0.00 0 -0.35 815.59 143.96 962.82 198.54 1.90 1.78 4.72 10.19 0.90 26.65 0.01\n",
    "Car 0.00 1 -2.09 966.10 144.74 1039.76 182.96 1.80 1.65 3.55 19.49 0.49 35.99 -1.59\n",
    "Van 0.00 2 -2.07 1084.26 132.74 1173.25 177.89 2.11 1.75 4.31 26.02 0.24 36.41 -1.45\n",
    "Car 0.00 2 -2.13 1004.98 144.16 1087.13 178.96 1.64 1.70 3.91 21.91 0.30 36.47 -1.59\n",
    "Car 0.00 2 1.77 407.73 178.44 487.07 230.28 1.55 1.71 4.50 -5.35 1.76 24.13 1.55\n",
    "Car 0.00 1 1.45 657.19 166.33 702.65 198.71 1.50 1.71 4.44 3.39 1.22 35.96 1.55\n",
    "Car 0.00 1 -1.46 599.30 171.76 631.96 197.12 1.58 1.71 3.75 0.39 1.54 47.31 -1.45\n",
    "Car 0.00 0 -1.02 557.79 165.74 591.61 181.27 1.66 1.65 4.45 -3.89 0.91 80.12 -1.07\n",
    "```"
   ],
   "metadata": {
    "collapsed": false,
    "pycharm": {
     "name": "#%% md\n"
    }
   }
  },
  {
   "cell_type": "markdown",
   "source": [
    "### Update the mapping table (class_id --> class_name)\n",
    "### Start the conversion yolo --> kitti"
   ],
   "metadata": {
    "collapsed": false,
    "pycharm": {
     "name": "#%% md\n"
    }
   }
  },
  {
   "cell_type": "code",
   "execution_count": 5,
   "outputs": [],
   "source": [
    "id2name = {'0': 'item'}\n",
    "\n",
    "def yolo2kitti(class_id, center_x, center_y, w, h, width, height):\n",
    "    bbox_width = float(w) * width\n",
    "    bbox_height = float(h) * height\n",
    "    center_x = float(center_x) * width\n",
    "    center_y = float(center_y) * height\n",
    "    x_min = max(round(center_x - (bbox_width / 2), 2), 1.0)\n",
    "    y_min = max(round(center_y - (bbox_height / 2), 2), 1.0)\n",
    "    x_max = min(round(center_x + (bbox_width / 2), 2), width - 1.0)\n",
    "    y_max = min(round(center_y + (bbox_height / 2), 2), height - 1.0)\n",
    "    # print(x_min, y_min, x_max, y_max)\n",
    "\n",
    "    if y_min < y_max <= height and x_min < x_max <= width:\n",
    "        kitti_string = f\"{id2name[class_id]} 0 0 0 {x_min} {y_min} {x_max} {y_max} 0 0 0 0 0 0 0\"\n",
    "    else:\n",
    "        kitti_string = \"\"\n",
    "        print(f\"warning: x_min: {x_min}, x_max: {x_max}, y_min: {y_min}, y_max: {y_max}\")\n",
    "    return kitti_string"
   ],
   "metadata": {
    "collapsed": false,
    "pycharm": {
     "name": "#%%\n"
    }
   }
  },
  {
   "cell_type": "markdown",
   "source": [],
   "metadata": {
    "collapsed": false,
    "pycharm": {
     "name": "#%% md\n"
    }
   }
  },
  {
   "cell_type": "markdown",
   "source": [
    "### Option 1: Fixed WIDTH and HEIGHT\n",
    "1. Convert the labels"
   ],
   "metadata": {
    "collapsed": false,
    "pycharm": {
     "name": "#%% md\n"
    }
   }
  },
  {
   "cell_type": "code",
   "execution_count": null,
   "outputs": [],
   "source": [
    "WIDTH, HEIGHT = 960, 544\n",
    "print(f\"Expected images resolution (width x height) is {WIDTH} x {HEIGHT}\")"
   ],
   "metadata": {
    "collapsed": false,
    "pycharm": {
     "name": "#%%\n"
    }
   }
  },
  {
   "cell_type": "code",
   "execution_count": null,
   "outputs": [],
   "source": [
    "for _src_label in src_labels:\n",
    "    # _dst_image = str(dst_images_d.joinpath(f\"{_src_label.name[:-4]}.jpg\"))\n",
    "    # print(_dst_label)\n",
    "    # print(_dst_image)\n",
    "    kitti_str_list = []\n",
    "    with open(_src_label, 'r') as f:\n",
    "        for yolo_str in f.readlines():\n",
    "            c = [_.strip() for _ in yolo_str.split(\" \")]\n",
    "            class_id = c[0]\n",
    "            x_center, y_center, w, h = [float(_) for _ in c[1:5]]\n",
    "            kitti_str = yolo2kitti(class_id, x_center, y_center, w, h, WIDTH, HEIGHT)\n",
    "            if len(kitti_str) > 0:\n",
    "                kitti_str_list.append(kitti_str)\n",
    "    # print(\"\\n\".join(kitti_str_list))\n",
    "\n",
    "    if kitti_str_list:\n",
    "        _dst_label = dst_labels_d.joinpath(_src_label.name)\n",
    "        # print(_dst_label)\n",
    "        with open(_dst_label, 'w') as f:\n",
    "            kitti_content = \"\\n\".join(kitti_str_list)\n",
    "            f.write(kitti_content)\n",
    "\n",
    "\n",
    "dst_labels = list(dst_labels_d.glob(\"*.txt\"))\n",
    "print(f\"destination label counts: {len(dst_labels)}\")\n",
    "\n"
   ],
   "metadata": {
    "collapsed": false,
    "pycharm": {
     "name": "#%%\n"
    }
   }
  },
  {
   "cell_type": "markdown",
   "source": [
    "2. Convert the images"
   ],
   "metadata": {
    "collapsed": false,
    "pycharm": {
     "name": "#%% md\n"
    }
   }
  },
  {
   "cell_type": "code",
   "execution_count": null,
   "outputs": [],
   "source": [
    "for _src_image in src_images:\n",
    "    _dst_image = dst_images_d.joinpath(_src_image.name)\n",
    "    _dst_label = dst_labels_d.joinpath(f\"{_dst_image.name[:-4]}.txt\")\n",
    "    if _dst_label.is_file():\n",
    "        frame = cv2.imread(str(_src_image))\n",
    "        resized = cv2.resize(frame, (WIDTH, HEIGHT))\n",
    "        cv2.imwrite(str(_dst_image), resized)\n",
    "    else:\n",
    "        print(f\"Warning: cannot find file {_dst_label}\")\n",
    "\n",
    "dst_images = list(dst_images_d.glob(\"*.jpg\"))\n",
    "\n",
    "print(f\"images: {len(dst_images)}\")\n",
    "\n"
   ],
   "metadata": {
    "collapsed": false,
    "pycharm": {
     "name": "#%%\n"
    }
   }
  },
  {
   "cell_type": "markdown",
   "source": [
    "### Option 2: Keep the original WIDTH and HEIGHT"
   ],
   "metadata": {
    "collapsed": false,
    "pycharm": {
     "name": "#%% md\n"
    }
   }
  },
  {
   "cell_type": "code",
   "execution_count": 6,
   "outputs": [],
   "source": [
    "for _src_image in src_images:\n",
    "    _dst_image = dst_images_d.joinpath(_src_image.name)\n",
    "    shutil.copy2(_src_image, _dst_image)\n",
    "\n",
    "dst_images = list(dst_images_d.glob(\"*.jpg\"))\n",
    "print(f\"destination images counts: {len(dst_images)}\")"
   ],
   "metadata": {
    "collapsed": false,
    "pycharm": {
     "name": "#%%\n"
    }
   }
  },
  {
   "cell_type": "code",
   "execution_count": null,
   "outputs": [],
   "source": [
    "for _src_label in src_labels:\n",
    "    _dst_image = str(dst_images_d.joinpath(f\"{_src_label.name[:-4]}.jpg\"))\n",
    "    frame = cv2.imread(_dst_image)\n",
    "    height, width = frame.shape[:2]\n",
    "    # print(_dst_label)\n",
    "    # print(_dst_image)\n",
    "    kitti_str_list = []\n",
    "    with open(_src_label, 'r') as f:\n",
    "        for yolo_str in f.readlines():\n",
    "            c = [_.strip() for _ in yolo_str.split(\" \")]\n",
    "            class_id = c[0]\n",
    "            x_center, y_center, w, h = [float(_) for _ in c[1:5]]\n",
    "            kitti_str = yolo2kitti(class_id, x_center, y_center, w, h, width, height)\n",
    "            if len(kitti_str) > 0:\n",
    "                kitti_str_list.append(kitti_str)\n",
    "    # print(\"\\n\".join(kitti_str_list))\n",
    "\n",
    "    if kitti_str_list:\n",
    "        _dst_label = dst_labels_d.joinpath(_src_label.name)\n",
    "        # print(_dst_label)\n",
    "        with open(_dst_label, 'w') as f:\n",
    "            kitti_content = \"\\n\".join(kitti_str_list)\n",
    "            f.write(kitti_content)\n",
    "\n",
    "\n",
    "dst_labels = list(dst_labels_d.glob(\"*.txt\"))\n",
    "print(f\"destination label counts: {len(dst_labels)}\")"
   ],
   "metadata": {
    "collapsed": false,
    "pycharm": {
     "name": "#%%\n",
     "is_executing": true
    }
   }
  },
  {
   "cell_type": "markdown",
   "source": [
    "## TODO: Visualize the converted dataset"
   ],
   "metadata": {
    "collapsed": false,
    "pycharm": {
     "name": "#%% md\n"
    }
   }
  }
 ],
 "metadata": {
  "kernelspec": {
   "display_name": "Python 3",
   "language": "python",
   "name": "python3"
  },
  "language_info": {
   "codemirror_mode": {
    "name": "ipython",
    "version": 2
   },
   "file_extension": ".py",
   "mimetype": "text/x-python",
   "name": "python",
   "nbconvert_exporter": "python",
   "pygments_lexer": "ipython2",
   "version": "2.7.6"
  }
 },
 "nbformat": 4,
 "nbformat_minor": 0
}